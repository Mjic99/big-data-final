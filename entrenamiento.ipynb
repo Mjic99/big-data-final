{
  "nbformat": 4,
  "nbformat_minor": 0,
  "metadata": {
    "colab": {
      "name": "Trabajo Big Data.ipynb",
      "provenance": [],
      "collapsed_sections": []
    },
    "kernelspec": {
      "name": "python3",
      "display_name": "Python 3"
    }
  },
  "cells": [
    {
      "cell_type": "code",
      "metadata": {
        "colab": {
          "base_uri": "https://localhost:8080/"
        },
        "id": "Hm_TDigzkWMC",
        "outputId": "dcf427ef-ab1c-4c3e-a359-e9012ee2f588"
      },
      "source": [
        "!pip install pyspark\n",
        "from pyspark.sql import SparkSession\n",
        "spark = SparkSession.builder.appName('tf').getOrCreate()"
      ],
      "execution_count": null,
      "outputs": [
        {
          "output_type": "stream",
          "text": [
            "Requirement already satisfied: pyspark in /usr/local/lib/python3.6/dist-packages (3.0.1)\n",
            "Requirement already satisfied: py4j==0.10.9 in /usr/local/lib/python3.6/dist-packages (from pyspark) (0.10.9)\n"
          ],
          "name": "stdout"
        }
      ]
    },
    {
      "cell_type": "code",
      "metadata": {
        "colab": {
          "base_uri": "https://localhost:8080/"
        },
        "id": "ozNynPGjmSX0",
        "outputId": "e0db78db-7744-44a0-aa3c-6e578af622a9"
      },
      "source": [
        "df = spark.read.csv(\"BankChurners.csv\", inferSchema=True, header=True)\n",
        "df.printSchema()\n",
        "df.show(5)"
      ],
      "execution_count": null,
      "outputs": [
        {
          "output_type": "stream",
          "text": [
            "root\n",
            " |-- CLIENTNUM: integer (nullable = true)\n",
            " |-- Attrition_Flag: string (nullable = true)\n",
            " |-- Customer_Age: integer (nullable = true)\n",
            " |-- Gender: string (nullable = true)\n",
            " |-- Dependent_count: integer (nullable = true)\n",
            " |-- Education_Level: string (nullable = true)\n",
            " |-- Marital_Status: string (nullable = true)\n",
            " |-- Income_Category: string (nullable = true)\n",
            " |-- Card_Category: string (nullable = true)\n",
            " |-- Months_on_book: integer (nullable = true)\n",
            " |-- Total_Relationship_Count: integer (nullable = true)\n",
            " |-- Months_Inactive_12_mon: integer (nullable = true)\n",
            " |-- Contacts_Count_12_mon: integer (nullable = true)\n",
            " |-- Credit_Limit: double (nullable = true)\n",
            " |-- Total_Revolving_Bal: integer (nullable = true)\n",
            " |-- Avg_Open_To_Buy: double (nullable = true)\n",
            " |-- Total_Amt_Chng_Q4_Q1: double (nullable = true)\n",
            " |-- Total_Trans_Amt: integer (nullable = true)\n",
            " |-- Total_Trans_Ct: integer (nullable = true)\n",
            " |-- Total_Ct_Chng_Q4_Q1: double (nullable = true)\n",
            " |-- Avg_Utilization_Ratio: double (nullable = true)\n",
            " |-- Naive_Bayes_Classifier_Attrition_Flag_Card_Category_Contacts_Count_12_mon_Dependent_count_Education_Level_Months_Inactive_12_mon_1: double (nullable = true)\n",
            " |-- Naive_Bayes_Classifier_Attrition_Flag_Card_Category_Contacts_Count_12_mon_Dependent_count_Education_Level_Months_Inactive_12_mon_2: double (nullable = true)\n",
            "\n",
            "+---------+-----------------+------------+------+---------------+---------------+--------------+---------------+-------------+--------------+------------------------+----------------------+---------------------+------------+-------------------+---------------+--------------------+---------------+--------------+-------------------+---------------------+----------------------------------------------------------------------------------------------------------------------------------+----------------------------------------------------------------------------------------------------------------------------------+\n",
            "|CLIENTNUM|   Attrition_Flag|Customer_Age|Gender|Dependent_count|Education_Level|Marital_Status|Income_Category|Card_Category|Months_on_book|Total_Relationship_Count|Months_Inactive_12_mon|Contacts_Count_12_mon|Credit_Limit|Total_Revolving_Bal|Avg_Open_To_Buy|Total_Amt_Chng_Q4_Q1|Total_Trans_Amt|Total_Trans_Ct|Total_Ct_Chng_Q4_Q1|Avg_Utilization_Ratio|Naive_Bayes_Classifier_Attrition_Flag_Card_Category_Contacts_Count_12_mon_Dependent_count_Education_Level_Months_Inactive_12_mon_1|Naive_Bayes_Classifier_Attrition_Flag_Card_Category_Contacts_Count_12_mon_Dependent_count_Education_Level_Months_Inactive_12_mon_2|\n",
            "+---------+-----------------+------------+------+---------------+---------------+--------------+---------------+-------------+--------------+------------------------+----------------------+---------------------+------------+-------------------+---------------+--------------------+---------------+--------------+-------------------+---------------------+----------------------------------------------------------------------------------------------------------------------------------+----------------------------------------------------------------------------------------------------------------------------------+\n",
            "|768805383|Existing Customer|          45|     M|              3|    High School|       Married|    $60K - $80K|         Blue|            39|                       5|                     1|                    3|     12691.0|                777|        11914.0|               1.335|           1144|            42|              1.625|                0.061|                                                                                                                         9.3448E-5|                                                                                                                           0.99991|\n",
            "|818770008|Existing Customer|          49|     F|              5|       Graduate|        Single| Less than $40K|         Blue|            44|                       6|                     1|                    2|      8256.0|                864|         7392.0|               1.541|           1291|            33|              3.714|                0.105|                                                                                                                         5.6861E-5|                                                                                                                           0.99994|\n",
            "|713982108|Existing Customer|          51|     M|              3|       Graduate|       Married|   $80K - $120K|         Blue|            36|                       4|                     1|                    0|      3418.0|                  0|         3418.0|               2.594|           1887|            20|              2.333|                  0.0|                                                                                                                         2.1081E-5|                                                                                                                           0.99998|\n",
            "|769911858|Existing Customer|          40|     F|              4|    High School|       Unknown| Less than $40K|         Blue|            34|                       3|                     4|                    1|      3313.0|               2517|          796.0|               1.405|           1171|            20|              2.333|                 0.76|                                                                                                                         1.3366E-4|                                                                                                                           0.99987|\n",
            "|709106358|Existing Customer|          40|     M|              3|     Uneducated|       Married|    $60K - $80K|         Blue|            21|                       5|                     1|                    0|      4716.0|                  0|         4716.0|               2.175|            816|            28|                2.5|                  0.0|                                                                                                                         2.1676E-5|                                                                                                                           0.99998|\n",
            "+---------+-----------------+------------+------+---------------+---------------+--------------+---------------+-------------+--------------+------------------------+----------------------+---------------------+------------+-------------------+---------------+--------------------+---------------+--------------+-------------------+---------------------+----------------------------------------------------------------------------------------------------------------------------------+----------------------------------------------------------------------------------------------------------------------------------+\n",
            "only showing top 5 rows\n",
            "\n"
          ],
          "name": "stdout"
        }
      ]
    },
    {
      "cell_type": "code",
      "metadata": {
        "colab": {
          "base_uri": "https://localhost:8080/"
        },
        "id": "tVOpIK1MWWIY",
        "outputId": "1c7e520e-d7e1-4be6-c1a9-cf032ca8cdee"
      },
      "source": [
        "df = df.select(\n",
        "          'Attrition_Flag', 'Total_Amt_Chng_Q4_Q1', 'Total_Ct_Chng_Q4_Q1',\n",
        "          'Total_Revolving_Bal', 'Contacts_Count_12_mon', 'Avg_Utilization_Ratio', 'Total_Trans_Amt',\n",
        "          'Months_Inactive_12_mon', 'Total_Relationship_Count')\n",
        "\n",
        "# Eliminar filas con datos faltantes\n",
        "df = df.na.drop()\n",
        "\n",
        "df.show(5)"
      ],
      "execution_count": null,
      "outputs": [
        {
          "output_type": "stream",
          "text": [
            "+-----------------+--------------------+-------------------+-------------------+---------------------+---------------------+---------------+----------------------+------------------------+\n",
            "|   Attrition_Flag|Total_Amt_Chng_Q4_Q1|Total_Ct_Chng_Q4_Q1|Total_Revolving_Bal|Contacts_Count_12_mon|Avg_Utilization_Ratio|Total_Trans_Amt|Months_Inactive_12_mon|Total_Relationship_Count|\n",
            "+-----------------+--------------------+-------------------+-------------------+---------------------+---------------------+---------------+----------------------+------------------------+\n",
            "|Existing Customer|               1.335|              1.625|                777|                    3|                0.061|           1144|                     1|                       5|\n",
            "|Existing Customer|               1.541|              3.714|                864|                    2|                0.105|           1291|                     1|                       6|\n",
            "|Existing Customer|               2.594|              2.333|                  0|                    0|                  0.0|           1887|                     1|                       4|\n",
            "|Existing Customer|               1.405|              2.333|               2517|                    1|                 0.76|           1171|                     4|                       3|\n",
            "|Existing Customer|               2.175|                2.5|                  0|                    0|                  0.0|            816|                     1|                       5|\n",
            "+-----------------+--------------------+-------------------+-------------------+---------------------+---------------------+---------------+----------------------+------------------------+\n",
            "only showing top 5 rows\n",
            "\n"
          ],
          "name": "stdout"
        }
      ]
    },
    {
      "cell_type": "code",
      "metadata": {
        "id": "GCsTsds3Ia1o"
      },
      "source": [
        "from pyspark.ml.feature import (VectorAssembler,VectorIndexer,\n",
        "                                OneHotEncoder,StringIndexer)\n",
        "from pyspark.ml import Pipeline"
      ],
      "execution_count": null,
      "outputs": []
    },
    {
      "cell_type": "code",
      "metadata": {
        "id": "ycw2vo6XbGiw"
      },
      "source": [
        "assembler = VectorAssembler(inputCols=[\n",
        "          'Total_Amt_Chng_Q4_Q1', 'Total_Ct_Chng_Q4_Q1',\n",
        "          'Total_Revolving_Bal', 'Contacts_Count_12_mon', 'Avg_Utilization_Ratio', 'Total_Trans_Amt',\n",
        "          'Months_Inactive_12_mon', 'Total_Relationship_Count'],\n",
        "                            outputCol='features')\n",
        "attrition_indexer = StringIndexer(inputCol='Attrition_Flag',outputCol='Attrition_Flag_Index')"
      ],
      "execution_count": null,
      "outputs": []
    },
    {
      "cell_type": "code",
      "metadata": {
        "id": "iV2B85e72qLj"
      },
      "source": [
        "pipeline = Pipeline(stages=[attrition_indexer, assembler])"
      ],
      "execution_count": null,
      "outputs": []
    },
    {
      "cell_type": "code",
      "metadata": {
        "id": "KRwTEW-re4Kt",
        "colab": {
          "base_uri": "https://localhost:8080/"
        },
        "outputId": "d45a056b-c50c-41f7-ca30-ab5db917a95f"
      },
      "source": [
        "df = pipeline.fit(df).transform(df)\n",
        "df.show(5)"
      ],
      "execution_count": null,
      "outputs": [
        {
          "output_type": "stream",
          "text": [
            "+-----------------+--------------------+-------------------+-------------------+---------------------+---------------------+---------------+----------------------+------------------------+--------------------+--------------------+\n",
            "|   Attrition_Flag|Total_Amt_Chng_Q4_Q1|Total_Ct_Chng_Q4_Q1|Total_Revolving_Bal|Contacts_Count_12_mon|Avg_Utilization_Ratio|Total_Trans_Amt|Months_Inactive_12_mon|Total_Relationship_Count|Attrition_Flag_Index|            features|\n",
            "+-----------------+--------------------+-------------------+-------------------+---------------------+---------------------+---------------+----------------------+------------------------+--------------------+--------------------+\n",
            "|Existing Customer|               1.335|              1.625|                777|                    3|                0.061|           1144|                     1|                       5|                 0.0|[1.335,1.625,777....|\n",
            "|Existing Customer|               1.541|              3.714|                864|                    2|                0.105|           1291|                     1|                       6|                 0.0|[1.541,3.714,864....|\n",
            "|Existing Customer|               2.594|              2.333|                  0|                    0|                  0.0|           1887|                     1|                       4|                 0.0|[2.594,2.333,0.0,...|\n",
            "|Existing Customer|               1.405|              2.333|               2517|                    1|                 0.76|           1171|                     4|                       3|                 0.0|[1.405,2.333,2517...|\n",
            "|Existing Customer|               2.175|                2.5|                  0|                    0|                  0.0|            816|                     1|                       5|                 0.0|[2.175,2.5,0.0,0....|\n",
            "+-----------------+--------------------+-------------------+-------------------+---------------------+---------------------+---------------+----------------------+------------------------+--------------------+--------------------+\n",
            "only showing top 5 rows\n",
            "\n"
          ],
          "name": "stdout"
        }
      ]
    },
    {
      "cell_type": "code",
      "metadata": {
        "id": "XjLRJV-dfDX9",
        "colab": {
          "base_uri": "https://localhost:8080/"
        },
        "outputId": "e6708006-cc3a-4cd9-84de-9ce83acbded0"
      },
      "source": [
        "df = df.select('Attrition_Flag_Index','features')\n",
        "df_train, df_test = df.randomSplit([0.7, 0.3])\n",
        "df_train.show(5)"
      ],
      "execution_count": null,
      "outputs": [
        {
          "output_type": "stream",
          "text": [
            "+--------------------+--------------------+\n",
            "|Attrition_Flag_Index|            features|\n",
            "+--------------------+--------------------+\n",
            "|                 0.0|[0.256,0.522,1519...|\n",
            "|                 0.0|[0.276,0.174,2189...|\n",
            "|                 0.0|[0.289,0.391,1901...|\n",
            "|                 0.0|[0.293,1.167,2076...|\n",
            "|                 0.0|[0.296,0.429,0.0,...|\n",
            "+--------------------+--------------------+\n",
            "only showing top 5 rows\n",
            "\n"
          ],
          "name": "stdout"
        }
      ]
    },
    {
      "cell_type": "code",
      "metadata": {
        "id": "8_ZZtDBChORU"
      },
      "source": [
        "from pyspark.ml.classification import (DecisionTreeClassifier,\n",
        "                                       RandomForestClassifier,\n",
        "                                       GBTClassifier)\n",
        "from pyspark.ml.classification import LogisticRegression"
      ],
      "execution_count": null,
      "outputs": []
    },
    {
      "cell_type": "code",
      "metadata": {
        "id": "up3FTYzEjko4"
      },
      "source": [
        "# Árbol de decisiones\n",
        "dt = DecisionTreeClassifier(labelCol=\"Attrition_Flag_Index\", featuresCol=\"features\", maxDepth=5, minInstancesPerNode=1)\n",
        "\n",
        "# Random Forest\n",
        "rf = RandomForestClassifier(labelCol=\"Attrition_Flag_Index\", featuresCol=\"features\", numTrees=100)\n",
        "\n",
        "# Gradient Boosting Tree\n",
        "gb = GBTClassifier(labelCol=\"Attrition_Flag_Index\", featuresCol=\"features\", maxIter=20)\n",
        "\n",
        "# Regresión Logística\n",
        "rl = LogisticRegression(featuresCol='features',\n",
        "                                     labelCol='Attrition_Flag_Index')"
      ],
      "execution_count": null,
      "outputs": []
    },
    {
      "cell_type": "code",
      "metadata": {
        "id": "I9KFOYIcdYTy"
      },
      "source": [
        "# Entrenar los 3 modelos con datos de entrenamiento\n",
        "modelo_DT = dt.fit(df_train)\n",
        "modelo_RF = rf.fit(df_train)\n",
        "modelo_GB = gb.fit(df_train)\n",
        "modelo_RL = rl.fit(df_train)"
      ],
      "execution_count": null,
      "outputs": []
    },
    {
      "cell_type": "code",
      "metadata": {
        "id": "qwGZJvC0j-x0",
        "colab": {
          "base_uri": "https://localhost:8080/"
        },
        "outputId": "eee459aa-ce4e-4296-99b8-e444adda60c4"
      },
      "source": [
        "# Aplicar el modelo de árbol de decisiones a los datos de prueba\n",
        "preds_DT = modelo_DT.transform(df_test)\n",
        "\n",
        "# Resultados con Árbol de decisiones\n",
        "preds_DT.show(5)\n",
        "\n",
        "# Mostrar solo algunas columnas\n",
        "preds_DT.select(\"prediction\", \"Attrition_Flag_Index\", \"features\").show(5)"
      ],
      "execution_count": null,
      "outputs": [
        {
          "output_type": "stream",
          "text": [
            "+--------------------+--------------------+--------------+--------------------+----------+\n",
            "|Attrition_Flag_Index|            features| rawPrediction|         probability|prediction|\n",
            "+--------------------+--------------------+--------------+--------------------+----------+\n",
            "|                 0.0|(8,[0,1,5,7],[0.8...|  [111.0,32.0]|[0.77622377622377...|       0.0|\n",
            "|                 0.0|[0.278,0.217,1704...|  [297.0,39.0]|[0.88392857142857...|       0.0|\n",
            "|                 0.0|[0.294,0.172,1752...|   [73.0,53.0]|[0.57936507936507...|       0.0|\n",
            "|                 0.0|[0.308,0.679,1277...|[4032.0,153.0]|[0.96344086021505...|       0.0|\n",
            "|                 0.0|[0.31,0.65,0.0,1....|  [790.0,23.0]|[0.97170971709717...|       0.0|\n",
            "+--------------------+--------------------+--------------+--------------------+----------+\n",
            "only showing top 5 rows\n",
            "\n",
            "+----------+--------------------+--------------------+\n",
            "|prediction|Attrition_Flag_Index|            features|\n",
            "+----------+--------------------+--------------------+\n",
            "|       0.0|                 0.0|(8,[0,1,5,7],[0.8...|\n",
            "|       0.0|                 0.0|[0.278,0.217,1704...|\n",
            "|       0.0|                 0.0|[0.294,0.172,1752...|\n",
            "|       0.0|                 0.0|[0.308,0.679,1277...|\n",
            "|       0.0|                 0.0|[0.31,0.65,0.0,1....|\n",
            "+----------+--------------------+--------------------+\n",
            "only showing top 5 rows\n",
            "\n"
          ],
          "name": "stdout"
        }
      ]
    },
    {
      "cell_type": "code",
      "metadata": {
        "colab": {
          "base_uri": "https://localhost:8080/"
        },
        "id": "geGSg3yikqci",
        "outputId": "46cdba47-3a95-47d0-af15-2f0c7f68cd66"
      },
      "source": [
        "preds_RF = modelo_RF.transform(df_test)\n",
        "\n",
        "# Resultados con Random Forest\n",
        "preds_RF.show(5)"
      ],
      "execution_count": null,
      "outputs": [
        {
          "output_type": "stream",
          "text": [
            "+--------------------+--------------------+--------------------+--------------------+----------+\n",
            "|Attrition_Flag_Index|            features|       rawPrediction|         probability|prediction|\n",
            "+--------------------+--------------------+--------------------+--------------------+----------+\n",
            "|                 0.0|(8,[0,1,5,7],[0.8...|[71.4329799679194...|[0.71432979967919...|       0.0|\n",
            "|                 0.0|[0.278,0.217,1704...|[83.4404768634218...|[0.83440476863421...|       0.0|\n",
            "|                 0.0|[0.294,0.172,1752...|[72.4643381838908...|[0.72464338183890...|       0.0|\n",
            "|                 0.0|[0.308,0.679,1277...|[88.395880369172,...|[0.88395880369172...|       0.0|\n",
            "|                 0.0|[0.31,0.65,0.0,1....|[78.4430750061674...|[0.78443075006167...|       0.0|\n",
            "+--------------------+--------------------+--------------------+--------------------+----------+\n",
            "only showing top 5 rows\n",
            "\n"
          ],
          "name": "stdout"
        }
      ]
    },
    {
      "cell_type": "code",
      "metadata": {
        "colab": {
          "base_uri": "https://localhost:8080/"
        },
        "id": "F12Mu2oYkvXL",
        "outputId": "8fa71786-53e4-429d-bc3f-41c35ef32d5e"
      },
      "source": [
        "# Aplicar el modelo de gradient boost a los datos de prueba\n",
        "preds_GB = modelo_GB.transform(df_test)\n",
        "\n",
        "# Resultados con Gradient Boosting\n",
        "preds_GB.show(5)"
      ],
      "execution_count": null,
      "outputs": [
        {
          "output_type": "stream",
          "text": [
            "+--------------------+--------------------+--------------------+--------------------+----------+\n",
            "|Attrition_Flag_Index|            features|       rawPrediction|         probability|prediction|\n",
            "+--------------------+--------------------+--------------------+--------------------+----------+\n",
            "|                 0.0|(8,[0,1,5,7],[0.8...|[0.79123055741689...|[0.82955278950431...|       0.0|\n",
            "|                 0.0|[0.278,0.217,1704...|[0.85877443284756...|[0.84781284528982...|       0.0|\n",
            "|                 0.0|[0.294,0.172,1752...|[0.35834162771226...|[0.67187622959874...|       0.0|\n",
            "|                 0.0|[0.308,0.679,1277...|[1.12950097307150...|[0.90542420105831...|       0.0|\n",
            "|                 0.0|[0.31,0.65,0.0,1....|[1.34075299516463...|[0.93592649427219...|       0.0|\n",
            "+--------------------+--------------------+--------------------+--------------------+----------+\n",
            "only showing top 5 rows\n",
            "\n"
          ],
          "name": "stdout"
        }
      ]
    },
    {
      "cell_type": "code",
      "metadata": {
        "colab": {
          "base_uri": "https://localhost:8080/"
        },
        "id": "1U8AqZMCkjR7",
        "outputId": "66e73b52-f052-4805-d899-6bb5bf6d8ba6"
      },
      "source": [
        "preds_RL = modelo_RL.transform(df_test)\n",
        "\n",
        "# Resultados con Random Forest\n",
        "preds_RL.show(5)"
      ],
      "execution_count": null,
      "outputs": [
        {
          "output_type": "stream",
          "text": [
            "+--------------------+--------------------+--------------------+--------------------+----------+\n",
            "|Attrition_Flag_Index|            features|       rawPrediction|         probability|prediction|\n",
            "+--------------------+--------------------+--------------------+--------------------+----------+\n",
            "|                 0.0|(8,[0,1,5,7],[0.8...|[5.58061140995187...|[0.99624390182566...|       0.0|\n",
            "|                 0.0|[0.278,0.217,1704...|[0.16975759056321...|[0.54233777354872...|       0.0|\n",
            "|                 0.0|[0.294,0.172,1752...|[-0.7457223343307...|[0.32175409629306...|       1.0|\n",
            "|                 0.0|[0.308,0.679,1277...|[3.26953514264053...|[0.96336877072950...|       0.0|\n",
            "|                 0.0|[0.31,0.65,0.0,1....|[1.38631697664469...|[0.80000361845941...|       0.0|\n",
            "+--------------------+--------------------+--------------------+--------------------+----------+\n",
            "only showing top 5 rows\n",
            "\n"
          ],
          "name": "stdout"
        }
      ]
    },
    {
      "cell_type": "code",
      "metadata": {
        "id": "FoFMCsN3llMa"
      },
      "source": [
        "from pyspark.ml.evaluation import (BinaryClassificationEvaluator,\n",
        "                                   MulticlassClassificationEvaluator)\n",
        "import numpy as np\n",
        "from sklearn.metrics import classification_report"
      ],
      "execution_count": null,
      "outputs": []
    },
    {
      "cell_type": "code",
      "metadata": {
        "id": "Eovb2knnAUE7"
      },
      "source": [
        "# Evaluador de exactitud\n",
        "evaluador = MulticlassClassificationEvaluator(labelCol=\"Attrition_Flag_Index\", predictionCol=\"prediction\", metricName=\"accuracy\")\n",
        "\n",
        "# Evaluador: usando AUC\n",
        "evaluadorAUC = BinaryClassificationEvaluator(labelCol=\"Attrition_Flag_Index\", \n",
        "                                             rawPredictionCol=\"prediction\",\n",
        "                                             metricName=\"areaUnderROC\")"
      ],
      "execution_count": null,
      "outputs": []
    },
    {
      "cell_type": "code",
      "metadata": {
        "colab": {
          "base_uri": "https://localhost:8080/"
        },
        "id": "nmkkdmCHJJo_",
        "outputId": "6d7ec11e-56ed-4507-98e2-879f403fdefd"
      },
      "source": [
        "# Métricas con árboles de decisión\n",
        "exactitud_dt = evaluador.evaluate(preds_DT)\n",
        "auc_dt = evaluadorAUC.evaluate(preds_DT)\n",
        "\n",
        "print(\"Usando Árboles de decisión: exactitud={}, AUC={:.3f}\".format(exactitud_dt, auc_dt))\n",
        "print(classification_report(preds_DT.select('Attrition_Flag_Index').collect(), preds_DT.select('prediction').collect()))"
      ],
      "execution_count": null,
      "outputs": [
        {
          "output_type": "stream",
          "text": [
            "Usando Árboles de decisión: exactitud=0.9048723897911833, AUC=0.792\n",
            "              precision    recall  f1-score   support\n",
            "\n",
            "         0.0       0.94      0.95      0.94      2559\n",
            "         1.0       0.71      0.63      0.67       458\n",
            "\n",
            "    accuracy                           0.90      3017\n",
            "   macro avg       0.82      0.79      0.81      3017\n",
            "weighted avg       0.90      0.90      0.90      3017\n",
            "\n"
          ],
          "name": "stdout"
        }
      ]
    },
    {
      "cell_type": "code",
      "metadata": {
        "colab": {
          "base_uri": "https://localhost:8080/"
        },
        "id": "-bckWsC8JNCM",
        "outputId": "8724e133-2df6-49ff-d0f4-55bec86ed067"
      },
      "source": [
        "# Métricas con random forest\n",
        "exactitud_rf = evaluador.evaluate(preds_RF)\n",
        "auc_rf = evaluadorAUC.evaluate(preds_RF)\n",
        "\n",
        "print(\"Usando Random Forest: exactitud={:3f}, AUC={:.3f}\".format(exactitud_rf, auc_rf))\n",
        "print(classification_report(preds_RF.select('Attrition_Flag_Index').collect(), preds_RF.select('prediction').collect()))"
      ],
      "execution_count": null,
      "outputs": [
        {
          "output_type": "stream",
          "text": [
            "Usando Random Forest: exactitud=0.910507, AUC=0.752\n",
            "              precision    recall  f1-score   support\n",
            "\n",
            "         0.0       0.92      0.98      0.95      2559\n",
            "         1.0       0.82      0.52      0.64       458\n",
            "\n",
            "    accuracy                           0.91      3017\n",
            "   macro avg       0.87      0.75      0.79      3017\n",
            "weighted avg       0.91      0.91      0.90      3017\n",
            "\n"
          ],
          "name": "stdout"
        }
      ]
    },
    {
      "cell_type": "code",
      "metadata": {
        "colab": {
          "base_uri": "https://localhost:8080/"
        },
        "id": "pe-Hp6znJP-V",
        "outputId": "5e4d2dec-5dc5-442f-cf73-f997c06c70d0"
      },
      "source": [
        "# Métricas con gradient boosting\n",
        "exactitud_gb = evaluador.evaluate(preds_GB)\n",
        "auc_gb = evaluadorAUC.evaluate(preds_GB)\n",
        "\n",
        "print(\"Usando Gradient Boosting: exactitud={:3f}, AUC={:.3f}\".format(exactitud_gb, auc_gb))\n",
        "print(classification_report(preds_GB.select('Attrition_Flag_Index').collect(), preds_GB.select('prediction').collect()))"
      ],
      "execution_count": null,
      "outputs": [
        {
          "output_type": "stream",
          "text": [
            "Usando Gradient Boosting: exactitud=0.937355, AUC=0.841\n",
            "              precision    recall  f1-score   support\n",
            "\n",
            "         0.0       0.95      0.98      0.96      2559\n",
            "         1.0       0.86      0.70      0.77       458\n",
            "\n",
            "    accuracy                           0.94      3017\n",
            "   macro avg       0.90      0.84      0.87      3017\n",
            "weighted avg       0.93      0.94      0.93      3017\n",
            "\n"
          ],
          "name": "stdout"
        }
      ]
    },
    {
      "cell_type": "code",
      "metadata": {
        "colab": {
          "base_uri": "https://localhost:8080/"
        },
        "id": "VZtGGf9QJR7P",
        "outputId": "b8538c11-0a5a-4252-d859-0a1070918dfb"
      },
      "source": [
        "# Métricas con regresión logística\n",
        "exactitud_rl = evaluador.evaluate(preds_RL)\n",
        "auc_rl = evaluador.evaluate(preds_RL)\n",
        "\n",
        "print(\"Usando Regresión Logística: exactitud={:3f}, AUC={:.3f}\".format(exactitud_rl, auc_rl))\n",
        "print(classification_report(preds_RL.select('Attrition_Flag_Index').collect(), preds_RL.select('prediction').collect()))"
      ],
      "execution_count": null,
      "outputs": [
        {
          "output_type": "stream",
          "text": [
            "Usando Regresión Logística: exactitud=0.885648, AUC=0.886\n",
            "              precision    recall  f1-score   support\n",
            "\n",
            "         0.0       0.90      0.97      0.94      2559\n",
            "         1.0       0.72      0.40      0.51       458\n",
            "\n",
            "    accuracy                           0.89      3017\n",
            "   macro avg       0.81      0.69      0.72      3017\n",
            "weighted avg       0.87      0.89      0.87      3017\n",
            "\n"
          ],
          "name": "stdout"
        }
      ]
    },
    {
      "cell_type": "code",
      "metadata": {
        "colab": {
          "base_uri": "https://localhost:8080/"
        },
        "id": "lztWJoJDGlVr",
        "outputId": "87307bd4-ac82-4166-9598-d51b67795c8f"
      },
      "source": [
        "import numpy as np\n",
        "from sklearn.metrics import average_precision_score\n",
        "\n",
        "average_precision = average_precision_score(salida.predictions.select('Attrition_Flag_Index').collect(), salida.predictions.select('prediction').collect())\n",
        "\n",
        "print('Average precision-recall score: {0:0.2f}'.format(\n",
        "      average_precision))\n",
        "\n",
        "#np.array(salida.predictions.select('Attrition_Flag_Index','prediction').collect())\n"
      ],
      "execution_count": null,
      "outputs": [
        {
          "output_type": "stream",
          "text": [
            "Average precision-recall score: 0.17\n"
          ],
          "name": "stdout"
        }
      ]
    }
  ]
}