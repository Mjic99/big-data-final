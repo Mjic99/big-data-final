{
  "nbformat": 4,
  "nbformat_minor": 0,
  "metadata": {
    "colab": {
      "name": "analisis-bigdata.ipynb",
      "provenance": []
    },
    "kernelspec": {
      "name": "python3",
      "display_name": "Python 3"
    }
  },
  "cells": [
    {
      "cell_type": "code",
      "metadata": {
        "colab": {
          "base_uri": "https://localhost:8080/"
        },
        "id": "DJ5JqezEiD6d",
        "outputId": "fb135bb5-5359-4b02-aa04-5794bd68817a"
      },
      "source": [
        "!pip install pyspark\n",
        "from pyspark.sql import SparkSession\n",
        "spark = SparkSession.builder.appName('tf').getOrCreate()"
      ],
      "execution_count": 109,
      "outputs": [
        {
          "output_type": "stream",
          "text": [
            "Requirement already satisfied: pyspark in /usr/local/lib/python3.6/dist-packages (3.0.1)\n",
            "Requirement already satisfied: py4j==0.10.9 in /usr/local/lib/python3.6/dist-packages (from pyspark) (0.10.9)\n"
          ],
          "name": "stdout"
        }
      ]
    },
    {
      "cell_type": "code",
      "metadata": {
        "colab": {
          "base_uri": "https://localhost:8080/"
        },
        "id": "wGSrfTy0iXdU",
        "outputId": "2ce985b1-8d6f-4718-cb2a-688058a376f9"
      },
      "source": [
        "df = spark.read.csv(\"BankChurners.csv\", inferSchema=True, header=True)\n",
        "df.printSchema()"
      ],
      "execution_count": 110,
      "outputs": [
        {
          "output_type": "stream",
          "text": [
            "root\n",
            " |-- CLIENTNUM: integer (nullable = true)\n",
            " |-- Attrition_Flag: string (nullable = true)\n",
            " |-- Customer_Age: integer (nullable = true)\n",
            " |-- Gender: string (nullable = true)\n",
            " |-- Dependent_count: integer (nullable = true)\n",
            " |-- Education_Level: string (nullable = true)\n",
            " |-- Marital_Status: string (nullable = true)\n",
            " |-- Income_Category: string (nullable = true)\n",
            " |-- Card_Category: string (nullable = true)\n",
            " |-- Months_on_book: integer (nullable = true)\n",
            " |-- Total_Relationship_Count: integer (nullable = true)\n",
            " |-- Months_Inactive_12_mon: integer (nullable = true)\n",
            " |-- Contacts_Count_12_mon: integer (nullable = true)\n",
            " |-- Credit_Limit: double (nullable = true)\n",
            " |-- Total_Revolving_Bal: integer (nullable = true)\n",
            " |-- Avg_Open_To_Buy: double (nullable = true)\n",
            " |-- Total_Amt_Chng_Q4_Q1: double (nullable = true)\n",
            " |-- Total_Trans_Amt: integer (nullable = true)\n",
            " |-- Total_Trans_Ct: integer (nullable = true)\n",
            " |-- Total_Ct_Chng_Q4_Q1: double (nullable = true)\n",
            " |-- Avg_Utilization_Ratio: double (nullable = true)\n",
            " |-- Naive_Bayes_Classifier_Attrition_Flag_Card_Category_Contacts_Count_12_mon_Dependent_count_Education_Level_Months_Inactive_12_mon_1: double (nullable = true)\n",
            " |-- Naive_Bayes_Classifier_Attrition_Flag_Card_Category_Contacts_Count_12_mon_Dependent_count_Education_Level_Months_Inactive_12_mon_2: double (nullable = true)\n",
            "\n"
          ],
          "name": "stdout"
        }
      ]
    },
    {
      "cell_type": "code",
      "metadata": {
        "id": "V8yo80MQiapo"
      },
      "source": [
        "from pyspark.ml.feature import (VectorAssembler,VectorIndexer,\n",
        "                                OneHotEncoder,StringIndexer)\n",
        "from pyspark.ml import Pipeline\n",
        "from pyspark.ml.linalg import Vectors\n",
        "from pyspark.ml.stat import Correlation"
      ],
      "execution_count": 111,
      "outputs": []
    },
    {
      "cell_type": "code",
      "metadata": {
        "colab": {
          "base_uri": "https://localhost:8080/"
        },
        "id": "52ydx0cgidxj",
        "outputId": "df19d887-7380-4503-f5fc-16b67de2f210"
      },
      "source": [
        "df = df.drop('CLIENTNUM',\n",
        "             'Naive_Bayes_Classifier_Attrition_Flag_Card_Category_Contacts_Count_12_mon_Dependent_count_Education_Level_Months_Inactive_12_mon_1',\n",
        "             'Naive_Bayes_Classifier_Attrition_Flag_Card_Category_Contacts_Count_12_mon_Dependent_count_Education_Level_Months_Inactive_12_mon_2')\n",
        "df.printSchema()"
      ],
      "execution_count": 112,
      "outputs": [
        {
          "output_type": "stream",
          "text": [
            "root\n",
            " |-- Attrition_Flag: string (nullable = true)\n",
            " |-- Customer_Age: integer (nullable = true)\n",
            " |-- Gender: string (nullable = true)\n",
            " |-- Dependent_count: integer (nullable = true)\n",
            " |-- Education_Level: string (nullable = true)\n",
            " |-- Marital_Status: string (nullable = true)\n",
            " |-- Income_Category: string (nullable = true)\n",
            " |-- Card_Category: string (nullable = true)\n",
            " |-- Months_on_book: integer (nullable = true)\n",
            " |-- Total_Relationship_Count: integer (nullable = true)\n",
            " |-- Months_Inactive_12_mon: integer (nullable = true)\n",
            " |-- Contacts_Count_12_mon: integer (nullable = true)\n",
            " |-- Credit_Limit: double (nullable = true)\n",
            " |-- Total_Revolving_Bal: integer (nullable = true)\n",
            " |-- Avg_Open_To_Buy: double (nullable = true)\n",
            " |-- Total_Amt_Chng_Q4_Q1: double (nullable = true)\n",
            " |-- Total_Trans_Amt: integer (nullable = true)\n",
            " |-- Total_Trans_Ct: integer (nullable = true)\n",
            " |-- Total_Ct_Chng_Q4_Q1: double (nullable = true)\n",
            " |-- Avg_Utilization_Ratio: double (nullable = true)\n",
            "\n"
          ],
          "name": "stdout"
        }
      ]
    },
    {
      "cell_type": "code",
      "metadata": {
        "colab": {
          "base_uri": "https://localhost:8080/"
        },
        "id": "02bEcCqITOHh",
        "outputId": "b393cd52-b3cb-4cef-9c25-979220a78b4c"
      },
      "source": [
        "df.describe().show()"
      ],
      "execution_count": 113,
      "outputs": [
        {
          "output_type": "stream",
          "text": [
            "+-------+-----------------+-----------------+------+------------------+---------------+--------------+---------------+-------------+------------------+------------------------+----------------------+---------------------+-----------------+-------------------+-----------------+--------------------+-----------------+-----------------+-------------------+---------------------+\n",
            "|summary|   Attrition_Flag|     Customer_Age|Gender|   Dependent_count|Education_Level|Marital_Status|Income_Category|Card_Category|    Months_on_book|Total_Relationship_Count|Months_Inactive_12_mon|Contacts_Count_12_mon|     Credit_Limit|Total_Revolving_Bal|  Avg_Open_To_Buy|Total_Amt_Chng_Q4_Q1|  Total_Trans_Amt|   Total_Trans_Ct|Total_Ct_Chng_Q4_Q1|Avg_Utilization_Ratio|\n",
            "+-------+-----------------+-----------------+------+------------------+---------------+--------------+---------------+-------------+------------------+------------------------+----------------------+---------------------+-----------------+-------------------+-----------------+--------------------+-----------------+-----------------+-------------------+---------------------+\n",
            "|  count|            10127|            10127| 10127|             10127|          10127|         10127|          10127|        10127|             10127|                   10127|                 10127|                10127|            10127|              10127|            10127|               10127|            10127|            10127|              10127|                10127|\n",
            "|   mean|             null|46.32596030413745|  null|2.3462032191172115|           null|          null|           null|         null|35.928409203120374|      3.8125802310654686|    2.3411671768539546|   2.4553174681544387|8631.953698034848| 1162.8140614199665|7469.139636614887|  0.7599406536980376|4404.086303939963|64.85869457884863| 0.7122223758269962|   0.2748935518909845|\n",
            "| stddev|             null|8.016814032549046|  null|  1.29890834890379|           null|          null|           null|         null|  7.98641633087208|        1.55440786533883|    1.0106223994182844|   1.1062251426359249|9088.776650223148|  814.9873352357533|9090.685323679114|  0.2192067692307027|3397.129253557085|23.47257044923301|0.23808609133294137|  0.27569146925238736|\n",
            "|    min|Attrited Customer|               26|     F|                 0|        College|      Divorced|        $120K +|         Blue|                13|                       1|                     0|                    0|           1438.3|                  0|              3.0|                 0.0|              510|               10|                0.0|                  0.0|\n",
            "|    max|Existing Customer|               73|     M|                 5|        Unknown|       Unknown|        Unknown|       Silver|                56|                       6|                     6|                    6|          34516.0|               2517|          34516.0|               3.397|            18484|              139|              3.714|                0.999|\n",
            "+-------+-----------------+-----------------+------+------------------+---------------+--------------+---------------+-------------+------------------+------------------------+----------------------+---------------------+-----------------+-------------------+-----------------+--------------------+-----------------+-----------------+-------------------+---------------------+\n",
            "\n"
          ],
          "name": "stdout"
        }
      ]
    },
    {
      "cell_type": "code",
      "metadata": {
        "colab": {
          "base_uri": "https://localhost:8080/"
        },
        "id": "z4PoS6UsUXlk",
        "outputId": "36511860-9474-418b-827e-a2e42032a404"
      },
      "source": [
        "#Porcentaje de clientes vigentes y abandonos\n",
        "\n",
        "churns = df.groupby('Attrition_Flag').count().collect()\n",
        "\n",
        "list(map(lambda x: 100*x['count']/10127, churns))"
      ],
      "execution_count": 114,
      "outputs": [
        {
          "output_type": "execute_result",
          "data": {
            "text/plain": [
              "[83.934037720944, 16.065962279055988]"
            ]
          },
          "metadata": {
            "tags": []
          },
          "execution_count": 114
        }
      ]
    },
    {
      "cell_type": "code",
      "metadata": {
        "colab": {
          "base_uri": "https://localhost:8080/",
          "height": 251
        },
        "id": "1JwU-D-MYH7R",
        "outputId": "bac2219f-2f39-4e7e-cf27-2ba85e797aac"
      },
      "source": [
        "import matplotlib.pyplot as plt\n",
        "\n",
        "#Distribución de categorías\n",
        "\n",
        "levels = df.groupby('Income_Category').count().collect()\n",
        "\n",
        "fig1, ax1 = plt.subplots()\n",
        "ax1.pie(list(map(lambda x: x['count'], levels)), labels=list(map(lambda x: x['Income_Category'], levels)), autopct='%1.1f%%',\n",
        "        shadow=True, startangle=90)\n",
        "ax1.axis('equal')\n",
        "\n",
        "plt.show()"
      ],
      "execution_count": 115,
      "outputs": [
        {
          "output_type": "display_data",
          "data": {
            "image/png": "[encoded data removed]",
            "text/plain": [
              "<Figure size 432x288 with 1 Axes>"
            ]
          },
          "metadata": {
            "tags": []
          }
        }
      ]
    },
    {
      "cell_type": "code",
      "metadata": {
        "colab": {
          "base_uri": "https://localhost:8080/",
          "height": 336
        },
        "id": "4tY71AJIbHMl",
        "outputId": "a6d7d855-86b3-4d79-d357-ce34b9e12601"
      },
      "source": [
        "ages = df.groupby('Customer_Age').count().sort('Customer_Age').collect()\n",
        "\n",
        "fig = plt.figure()\n",
        "ax = fig.add_axes([0,0,1,1])\n",
        "ax.bar(list(map(lambda x: x['Customer_Age'], ages)),list(map(lambda x: x['count'], ages)))\n",
        "plt.show()"
      ],
      "execution_count": 116,
      "outputs": [
        {
          "output_type": "display_data",
          "data": {
            "image/png": "[encoded data removed]",
            "text/plain": [
              "<Figure size 432x288 with 1 Axes>"
            ]
          },
          "metadata": {
            "tags": [],
            "needs_background": "light"
          }
        }
      ]
    },
    {
      "cell_type": "code",
      "metadata": {
        "colab": {
          "base_uri": "https://localhost:8080/"
        },
        "id": "jeanLENJbelY",
        "outputId": "9a4287bc-a8bb-472c-a704-f87d46840c34"
      },
      "source": [
        "df.groupby('Customer_Age').count().sort('Customer_Age').show()"
      ],
      "execution_count": 117,
      "outputs": [
        {
          "output_type": "stream",
          "text": [
            "+------------+-----+\n",
            "|Customer_Age|count|\n",
            "+------------+-----+\n",
            "|          26|   78|\n",
            "|          27|   32|\n",
            "|          28|   29|\n",
            "|          29|   56|\n",
            "|          30|   70|\n",
            "|          31|   91|\n",
            "|          32|  106|\n",
            "|          33|  127|\n",
            "|          34|  146|\n",
            "|          35|  184|\n",
            "|          36|  221|\n",
            "|          37|  260|\n",
            "|          38|  303|\n",
            "|          39|  333|\n",
            "|          40|  361|\n",
            "|          41|  379|\n",
            "|          42|  426|\n",
            "|          43|  473|\n",
            "|          44|  500|\n",
            "|          45|  486|\n",
            "+------------+-----+\n",
            "only showing top 20 rows\n",
            "\n"
          ],
          "name": "stdout"
        }
      ]
    },
    {
      "cell_type": "code",
      "metadata": {
        "id": "QEXokpOBlTDX"
      },
      "source": [
        "from pyspark.ml.feature import VectorAssembler, StringIndexer\n",
        "from pyspark.ml import Pipeline\n",
        "\n",
        "gender_indexer = StringIndexer(inputCol='Gender', outputCol='Gender_index')\n",
        "education_indexer = StringIndexer(inputCol='Education_Level',outputCol='Education_Level_index')\n",
        "status_indexer = StringIndexer(inputCol='Marital_Status',outputCol='Marital_Status_index')\n",
        "income_indexer = StringIndexer(inputCol='Income_Category',outputCol='Income_Category_index')\n",
        "card_indexer = StringIndexer(inputCol='Card_Category',outputCol='Card_Category_index')\n",
        "attrition_indexer = StringIndexer(inputCol='Attrition_Flag',outputCol='Attrition_Flag_index')\n",
        "\n",
        "assembler = VectorAssembler(inputCols=[c for c in df.columns if c not in {'Gender', 'Education_Level', 'Marital_Status', 'Income_Category', 'Card_Category', 'Attrition_Flag'}],\n",
        "                            outputCol='features')\n",
        "\n",
        "pipeline = Pipeline(stages=[gender_indexer, education_indexer, status_indexer,\n",
        "                            income_indexer, card_indexer, attrition_indexer, assembler])\n",
        "\n",
        "df = pipeline.fit(df).transform(df)"
      ],
      "execution_count": 118,
      "outputs": []
    },
    {
      "cell_type": "code",
      "metadata": {
        "id": "SGgzR5N7wBtC"
      },
      "source": [
        "scores = [df.corr('Attrition_Flag_index', c) \\\n",
        " for c in df.columns \\\n",
        " if c not in {'Gender', 'Education_Level', 'Marital_Status', 'Income_Category', 'Card_Category', 'Attrition_Flag', 'features'}]"
      ],
      "execution_count": 119,
      "outputs": []
    },
    {
      "cell_type": "code",
      "metadata": {
        "id": "Mbhhrxs96pbQ"
      },
      "source": [
        "names = [c \\\n",
        " for c in df.columns \\\n",
        " if c not in {'Gender', 'Education_Level', 'Marital_Status', 'Income_Category', 'Card_Category', 'Attrition_Flag', 'features'}]"
      ],
      "execution_count": 120,
      "outputs": []
    },
    {
      "cell_type": "code",
      "metadata": {
        "colab": {
          "base_uri": "https://localhost:8080/",
          "height": 336
        },
        "id": "GE7aU3M6KeKF",
        "outputId": "e1b041fb-7bfd-4eb7-b819-64b900fac19a"
      },
      "source": [
        "import matplotlib.pyplot as plt\n",
        "fig = plt.figure()\n",
        "ax = fig.add_axes([0,0,1,1])\n",
        "ax.barh(names,scores)\n",
        "plt.show()"
      ],
      "execution_count": 121,
      "outputs": [
        {
          "output_type": "display_data",
          "data": {
            "image/png": "[encoded data removed]",
            "text/plain": [
              "<Figure size 432x288 with 1 Axes>"
            ]
          },
          "metadata": {
            "tags": [],
            "needs_background": "light"
          }
        }
      ]
    }
  ]
}